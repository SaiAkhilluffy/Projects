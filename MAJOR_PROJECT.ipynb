{
  "nbformat": 4,
  "nbformat_minor": 0,
  "metadata": {
    "colab": {
      "name": "MAJOR_PROJECT.ipynb",
      "provenance": [],
      "collapsed_sections": [],
      "mount_file_id": "1Pe77bzZo8y5E1sKsxXrqHwizONR-aJer",
      "authorship_tag": "ABX9TyMurCREJgpYVx+DHBTuFBUl",
      "include_colab_link": true
    },
    "kernelspec": {
      "name": "python3",
      "display_name": "Python 3"
    },
    "language_info": {
      "name": "python"
    }
  },
  "cells": [
    {
      "cell_type": "markdown",
      "metadata": {
        "id": "view-in-github",
        "colab_type": "text"
      },
      "source": [
        "<a href=\"https://colab.research.google.com/github/SaiAkhilluffy/frontendproject/blob/master/MAJOR_PROJECT.ipynb\" target=\"_parent\"><img src=\"https://colab.research.google.com/assets/colab-badge.svg\" alt=\"Open In Colab\"/></a>"
      ]
    },
    {
      "cell_type": "markdown",
      "source": [
        "#**PROJECT:Create a classification model to predict whether a person makes over $50k a year** "
      ],
      "metadata": {
        "id": "KG9Yh1MFYsXZ"
      }
    },
    {
      "cell_type": "markdown",
      "source": [
        "**IMPORTING NECESSARY LIBRARIES**"
      ],
      "metadata": {
        "id": "sRBozijVZX8C"
      }
    },
    {
      "cell_type": "code",
      "execution_count": null,
      "metadata": {
        "id": "LbMejpjkjUjO"
      },
      "outputs": [],
      "source": [
        "import numpy as np \n",
        "import pandas as pd\n",
        "import matplotlib.pyplot as pplt  \n",
        "import seaborn as sns \n",
        "from sklearn.model_selection import train_test_split \n"
      ]
    },
    {
      "cell_type": "markdown",
      "source": [
        "**EXTRACTING DATA SET**"
      ],
      "metadata": {
        "id": "HnHM1MCpZgbc"
      }
    },
    {
      "cell_type": "code",
      "source": [
        "salary_dataset = pd.read_csv('/content/drive/MyDrive/adult (1).csv')"
      ],
      "metadata": {
        "id": "LZvNEuzgjiAl"
      },
      "execution_count": null,
      "outputs": []
    },
    {
      "cell_type": "markdown",
      "source": [
        "**DATASET**"
      ],
      "metadata": {
        "id": "9rMyUlTqZmQY"
      }
    },
    {
      "cell_type": "code",
      "source": [
        "salary_dataset.head()"
      ],
      "metadata": {
        "colab": {
          "base_uri": "https://localhost:8080/",
          "height": 206
        },
        "id": "vdbe1zYGuFHJ",
        "outputId": "549311bc-7aba-4f34-cea2-4ead33e7668a"
      },
      "execution_count": null,
      "outputs": [
        {
          "output_type": "execute_result",
          "data": {
            "text/plain": [
              "   age          workclass  fnlwgt   education  educational-num  \\\n",
              "0   39          State-gov   77516   Bachelors               13   \n",
              "1   50   Self-emp-not-inc   83311   Bachelors               13   \n",
              "2   38            Private  215646     HS-grad                9   \n",
              "3   53            Private  234721        11th                7   \n",
              "4   28            Private  338409   Bachelors               13   \n",
              "\n",
              "        marital-status          occupation    relationship    race   gender  \\\n",
              "0        Never-married        Adm-clerical   Not-in-family   White     Male   \n",
              "1   Married-civ-spouse     Exec-managerial         Husband   White     Male   \n",
              "2             Divorced   Handlers-cleaners   Not-in-family   White     Male   \n",
              "3   Married-civ-spouse   Handlers-cleaners         Husband   Black     Male   \n",
              "4   Married-civ-spouse      Prof-specialty            Wife   Black   Female   \n",
              "\n",
              "   capital-gain  capital-loss  hours-per-week  native-country  income  \n",
              "0          2174             0              40   United-States   <=50K  \n",
              "1             0             0              13   United-States   <=50K  \n",
              "2             0             0              40   United-States   <=50K  \n",
              "3             0             0              40   United-States   <=50K  \n",
              "4             0             0              40            Cuba   <=50K  "
            ],
            "text/html": [
              "\n",
              "  <div id=\"df-7afb037e-1e8a-405d-8cd8-bd136d41c95d\">\n",
              "    <div class=\"colab-df-container\">\n",
              "      <div>\n",
              "<style scoped>\n",
              "    .dataframe tbody tr th:only-of-type {\n",
              "        vertical-align: middle;\n",
              "    }\n",
              "\n",
              "    .dataframe tbody tr th {\n",
              "        vertical-align: top;\n",
              "    }\n",
              "\n",
              "    .dataframe thead th {\n",
              "        text-align: right;\n",
              "    }\n",
              "</style>\n",
              "<table border=\"1\" class=\"dataframe\">\n",
              "  <thead>\n",
              "    <tr style=\"text-align: right;\">\n",
              "      <th></th>\n",
              "      <th>age</th>\n",
              "      <th>workclass</th>\n",
              "      <th>fnlwgt</th>\n",
              "      <th>education</th>\n",
              "      <th>educational-num</th>\n",
              "      <th>marital-status</th>\n",
              "      <th>occupation</th>\n",
              "      <th>relationship</th>\n",
              "      <th>race</th>\n",
              "      <th>gender</th>\n",
              "      <th>capital-gain</th>\n",
              "      <th>capital-loss</th>\n",
              "      <th>hours-per-week</th>\n",
              "      <th>native-country</th>\n",
              "      <th>income</th>\n",
              "    </tr>\n",
              "  </thead>\n",
              "  <tbody>\n",
              "    <tr>\n",
              "      <th>0</th>\n",
              "      <td>39</td>\n",
              "      <td>State-gov</td>\n",
              "      <td>77516</td>\n",
              "      <td>Bachelors</td>\n",
              "      <td>13</td>\n",
              "      <td>Never-married</td>\n",
              "      <td>Adm-clerical</td>\n",
              "      <td>Not-in-family</td>\n",
              "      <td>White</td>\n",
              "      <td>Male</td>\n",
              "      <td>2174</td>\n",
              "      <td>0</td>\n",
              "      <td>40</td>\n",
              "      <td>United-States</td>\n",
              "      <td>&lt;=50K</td>\n",
              "    </tr>\n",
              "    <tr>\n",
              "      <th>1</th>\n",
              "      <td>50</td>\n",
              "      <td>Self-emp-not-inc</td>\n",
              "      <td>83311</td>\n",
              "      <td>Bachelors</td>\n",
              "      <td>13</td>\n",
              "      <td>Married-civ-spouse</td>\n",
              "      <td>Exec-managerial</td>\n",
              "      <td>Husband</td>\n",
              "      <td>White</td>\n",
              "      <td>Male</td>\n",
              "      <td>0</td>\n",
              "      <td>0</td>\n",
              "      <td>13</td>\n",
              "      <td>United-States</td>\n",
              "      <td>&lt;=50K</td>\n",
              "    </tr>\n",
              "    <tr>\n",
              "      <th>2</th>\n",
              "      <td>38</td>\n",
              "      <td>Private</td>\n",
              "      <td>215646</td>\n",
              "      <td>HS-grad</td>\n",
              "      <td>9</td>\n",
              "      <td>Divorced</td>\n",
              "      <td>Handlers-cleaners</td>\n",
              "      <td>Not-in-family</td>\n",
              "      <td>White</td>\n",
              "      <td>Male</td>\n",
              "      <td>0</td>\n",
              "      <td>0</td>\n",
              "      <td>40</td>\n",
              "      <td>United-States</td>\n",
              "      <td>&lt;=50K</td>\n",
              "    </tr>\n",
              "    <tr>\n",
              "      <th>3</th>\n",
              "      <td>53</td>\n",
              "      <td>Private</td>\n",
              "      <td>234721</td>\n",
              "      <td>11th</td>\n",
              "      <td>7</td>\n",
              "      <td>Married-civ-spouse</td>\n",
              "      <td>Handlers-cleaners</td>\n",
              "      <td>Husband</td>\n",
              "      <td>Black</td>\n",
              "      <td>Male</td>\n",
              "      <td>0</td>\n",
              "      <td>0</td>\n",
              "      <td>40</td>\n",
              "      <td>United-States</td>\n",
              "      <td>&lt;=50K</td>\n",
              "    </tr>\n",
              "    <tr>\n",
              "      <th>4</th>\n",
              "      <td>28</td>\n",
              "      <td>Private</td>\n",
              "      <td>338409</td>\n",
              "      <td>Bachelors</td>\n",
              "      <td>13</td>\n",
              "      <td>Married-civ-spouse</td>\n",
              "      <td>Prof-specialty</td>\n",
              "      <td>Wife</td>\n",
              "      <td>Black</td>\n",
              "      <td>Female</td>\n",
              "      <td>0</td>\n",
              "      <td>0</td>\n",
              "      <td>40</td>\n",
              "      <td>Cuba</td>\n",
              "      <td>&lt;=50K</td>\n",
              "    </tr>\n",
              "  </tbody>\n",
              "</table>\n",
              "</div>\n",
              "      <button class=\"colab-df-convert\" onclick=\"convertToInteractive('df-7afb037e-1e8a-405d-8cd8-bd136d41c95d')\"\n",
              "              title=\"Convert this dataframe to an interactive table.\"\n",
              "              style=\"display:none;\">\n",
              "        \n",
              "  <svg xmlns=\"http://www.w3.org/2000/svg\" height=\"24px\"viewBox=\"0 0 24 24\"\n",
              "       width=\"24px\">\n",
              "    <path d=\"M0 0h24v24H0V0z\" fill=\"none\"/>\n",
              "    <path d=\"M18.56 5.44l.94 2.06.94-2.06 2.06-.94-2.06-.94-.94-2.06-.94 2.06-2.06.94zm-11 1L8.5 8.5l.94-2.06 2.06-.94-2.06-.94L8.5 2.5l-.94 2.06-2.06.94zm10 10l.94 2.06.94-2.06 2.06-.94-2.06-.94-.94-2.06-.94 2.06-2.06.94z\"/><path d=\"M17.41 7.96l-1.37-1.37c-.4-.4-.92-.59-1.43-.59-.52 0-1.04.2-1.43.59L10.3 9.45l-7.72 7.72c-.78.78-.78 2.05 0 2.83L4 21.41c.39.39.9.59 1.41.59.51 0 1.02-.2 1.41-.59l7.78-7.78 2.81-2.81c.8-.78.8-2.07 0-2.86zM5.41 20L4 18.59l7.72-7.72 1.47 1.35L5.41 20z\"/>\n",
              "  </svg>\n",
              "      </button>\n",
              "      \n",
              "  <style>\n",
              "    .colab-df-container {\n",
              "      display:flex;\n",
              "      flex-wrap:wrap;\n",
              "      gap: 12px;\n",
              "    }\n",
              "\n",
              "    .colab-df-convert {\n",
              "      background-color: #E8F0FE;\n",
              "      border: none;\n",
              "      border-radius: 50%;\n",
              "      cursor: pointer;\n",
              "      display: none;\n",
              "      fill: #1967D2;\n",
              "      height: 32px;\n",
              "      padding: 0 0 0 0;\n",
              "      width: 32px;\n",
              "    }\n",
              "\n",
              "    .colab-df-convert:hover {\n",
              "      background-color: #E2EBFA;\n",
              "      box-shadow: 0px 1px 2px rgba(60, 64, 67, 0.3), 0px 1px 3px 1px rgba(60, 64, 67, 0.15);\n",
              "      fill: #174EA6;\n",
              "    }\n",
              "\n",
              "    [theme=dark] .colab-df-convert {\n",
              "      background-color: #3B4455;\n",
              "      fill: #D2E3FC;\n",
              "    }\n",
              "\n",
              "    [theme=dark] .colab-df-convert:hover {\n",
              "      background-color: #434B5C;\n",
              "      box-shadow: 0px 1px 3px 1px rgba(0, 0, 0, 0.15);\n",
              "      filter: drop-shadow(0px 1px 2px rgba(0, 0, 0, 0.3));\n",
              "      fill: #FFFFFF;\n",
              "    }\n",
              "  </style>\n",
              "\n",
              "      <script>\n",
              "        const buttonEl =\n",
              "          document.querySelector('#df-7afb037e-1e8a-405d-8cd8-bd136d41c95d button.colab-df-convert');\n",
              "        buttonEl.style.display =\n",
              "          google.colab.kernel.accessAllowed ? 'block' : 'none';\n",
              "\n",
              "        async function convertToInteractive(key) {\n",
              "          const element = document.querySelector('#df-7afb037e-1e8a-405d-8cd8-bd136d41c95d');\n",
              "          const dataTable =\n",
              "            await google.colab.kernel.invokeFunction('convertToInteractive',\n",
              "                                                     [key], {});\n",
              "          if (!dataTable) return;\n",
              "\n",
              "          const docLinkHtml = 'Like what you see? Visit the ' +\n",
              "            '<a target=\"_blank\" href=https://colab.research.google.com/notebooks/data_table.ipynb>data table notebook</a>'\n",
              "            + ' to learn more about interactive tables.';\n",
              "          element.innerHTML = '';\n",
              "          dataTable['output_type'] = 'display_data';\n",
              "          await google.colab.output.renderOutput(dataTable, element);\n",
              "          const docLink = document.createElement('div');\n",
              "          docLink.innerHTML = docLinkHtml;\n",
              "          element.appendChild(docLink);\n",
              "        }\n",
              "      </script>\n",
              "    </div>\n",
              "  </div>\n",
              "  "
            ]
          },
          "metadata": {},
          "execution_count": 65
        }
      ]
    },
    {
      "cell_type": "markdown",
      "source": [
        "**INFORMATION OF DATASET**"
      ],
      "metadata": {
        "id": "4Pt_cNOXZtSR"
      }
    },
    {
      "cell_type": "code",
      "source": [
        "salary_dataset.info()"
      ],
      "metadata": {
        "colab": {
          "base_uri": "https://localhost:8080/"
        },
        "id": "rLIMGSiUlF4P",
        "outputId": "6c739533-fd17-4971-902c-74f9d21c9d51"
      },
      "execution_count": null,
      "outputs": [
        {
          "output_type": "stream",
          "name": "stdout",
          "text": [
            "<class 'pandas.core.frame.DataFrame'>\n",
            "RangeIndex: 32561 entries, 0 to 32560\n",
            "Data columns (total 15 columns):\n",
            " #   Column           Non-Null Count  Dtype \n",
            "---  ------           --------------  ----- \n",
            " 0   age              32561 non-null  int64 \n",
            " 1   workclass        32561 non-null  object\n",
            " 2   fnlwgt           32561 non-null  int64 \n",
            " 3   education        32561 non-null  object\n",
            " 4   educational-num  32561 non-null  int64 \n",
            " 5   marital-status   32561 non-null  object\n",
            " 6   occupation       32561 non-null  object\n",
            " 7   relationship     32561 non-null  object\n",
            " 8   race             32561 non-null  object\n",
            " 9   gender           32561 non-null  object\n",
            " 10  capital-gain     32561 non-null  int64 \n",
            " 11  capital-loss     32561 non-null  int64 \n",
            " 12  hours-per-week   32561 non-null  int64 \n",
            " 13  native-country   32561 non-null  object\n",
            " 14  income           32561 non-null  object\n",
            "dtypes: int64(6), object(9)\n",
            "memory usage: 3.7+ MB\n"
          ]
        }
      ]
    },
    {
      "cell_type": "code",
      "source": [
        "salary_dataset.rename(columns={'capital-gain': 'capital gain', 'capital-loss': 'capital loss', 'native-country': 'country','hours-per-week': 'hours per week','marital-status': 'marital'}, inplace=True)\n",
        "salary_dataset.columns"
      ],
      "metadata": {
        "colab": {
          "base_uri": "https://localhost:8080/"
        },
        "id": "Gb1BFiwPlLmF",
        "outputId": "e687b682-57b7-405b-fa62-3be28b55bfb0"
      },
      "execution_count": null,
      "outputs": [
        {
          "output_type": "execute_result",
          "data": {
            "text/plain": [
              "Index(['age', 'workclass', 'fnlwgt', 'education', 'educational-num', 'marital',\n",
              "       'occupation', 'relationship', 'race', 'gender', 'capital gain',\n",
              "       'capital loss', 'hours per week', 'country', 'income'],\n",
              "      dtype='object')"
            ]
          },
          "metadata": {},
          "execution_count": 67
        }
      ]
    },
    {
      "cell_type": "markdown",
      "source": [
        "# **DATA CLEANING**"
      ],
      "metadata": {
        "id": "OAvp_Bmr60MF"
      }
    },
    {
      "cell_type": "markdown",
      "source": [
        "**CHECKING FOR NULL VALUES IN THE DATASET**"
      ],
      "metadata": {
        "id": "yDzaRDuZZyec"
      }
    },
    {
      "cell_type": "code",
      "source": [
        "salary_dataset.isnull().sum()"
      ],
      "metadata": {
        "colab": {
          "base_uri": "https://localhost:8080/"
        },
        "id": "4cjDXd3mHhdg",
        "outputId": "16fa48d0-6f00-4380-a16f-994367a0afc5"
      },
      "execution_count": null,
      "outputs": [
        {
          "output_type": "execute_result",
          "data": {
            "text/plain": [
              "age                0\n",
              "workclass          0\n",
              "fnlwgt             0\n",
              "education          0\n",
              "educational-num    0\n",
              "marital            0\n",
              "occupation         0\n",
              "relationship       0\n",
              "race               0\n",
              "gender             0\n",
              "capital gain       0\n",
              "capital loss       0\n",
              "hours per week     0\n",
              "country            0\n",
              "income             0\n",
              "dtype: int64"
            ]
          },
          "metadata": {},
          "execution_count": 68
        }
      ]
    },
    {
      "cell_type": "markdown",
      "source": [
        "**AS THERE ARE NO NULL VALUES NOW WE CHECK FOR SPECIAL CHARACTERS.**\n",
        "**WE OBSERVE THAT THE SPECIAL CHRACTERS IN THE DATASET IS \"?\".**\n",
        "*WE MUST NOW FIND THE QUESTION MARKS AND REPLACE THEM.*"
      ],
      "metadata": {
        "id": "3NkxRnmqZ4HL"
      }
    },
    {
      "cell_type": "code",
      "source": [
        "salary_dataset.isin([' ?']).sum(axis=0)"
      ],
      "metadata": {
        "colab": {
          "base_uri": "https://localhost:8080/"
        },
        "id": "Y0S9XDu_leXJ",
        "outputId": "b3d0f5c2-3c1f-4e09-a95d-af419fa70c75"
      },
      "execution_count": null,
      "outputs": [
        {
          "output_type": "execute_result",
          "data": {
            "text/plain": [
              "age                   0\n",
              "workclass          1836\n",
              "fnlwgt                0\n",
              "education             0\n",
              "educational-num       0\n",
              "marital               0\n",
              "occupation         1843\n",
              "relationship          0\n",
              "race                  0\n",
              "gender                0\n",
              "capital gain          0\n",
              "capital loss          0\n",
              "hours per week        0\n",
              "country             583\n",
              "income                0\n",
              "dtype: int64"
            ]
          },
          "metadata": {},
          "execution_count": 69
        }
      ]
    },
    {
      "cell_type": "code",
      "source": [
        "salary_dataset['country'] = salary_dataset['country'].replace(' ?',np.nan)\n",
        "salary_dataset['workclass'] = salary_dataset['workclass'].replace(' ?',np.nan)\n",
        "salary_dataset['occupation'] = salary_dataset['occupation'].replace(' ?',np.nan)\n",
        "salary_dataset.dropna(how='any',inplace=True)"
      ],
      "metadata": {
        "id": "n0g7Ap_pq2YZ"
      },
      "execution_count": null,
      "outputs": []
    },
    {
      "cell_type": "markdown",
      "source": [
        "**NOW WE REMOVED THE SPECIAL CHARCTERS FROM OUR DATASET**"
      ],
      "metadata": {
        "id": "TCdn8xvoawrJ"
      }
    },
    {
      "cell_type": "code",
      "source": [
        "salary_dataset.isin([' ?']).sum(axis=0)"
      ],
      "metadata": {
        "colab": {
          "base_uri": "https://localhost:8080/"
        },
        "id": "ocm7-ncIrNtg",
        "outputId": "e2887506-818b-4683-ac26-b6bfbd0b4dc6"
      },
      "execution_count": null,
      "outputs": [
        {
          "output_type": "execute_result",
          "data": {
            "text/plain": [
              "age                0\n",
              "workclass          0\n",
              "fnlwgt             0\n",
              "education          0\n",
              "educational-num    0\n",
              "marital            0\n",
              "occupation         0\n",
              "relationship       0\n",
              "race               0\n",
              "gender             0\n",
              "capital gain       0\n",
              "capital loss       0\n",
              "hours per week     0\n",
              "country            0\n",
              "income             0\n",
              "dtype: int64"
            ]
          },
          "metadata": {},
          "execution_count": 71
        }
      ]
    },
    {
      "cell_type": "markdown",
      "source": [
        "**FREQUENCY OF THE DATA FROM EACH COLUMN**"
      ],
      "metadata": {
        "id": "3UgTXf186UeD"
      }
    },
    {
      "cell_type": "code",
      "source": [
        "for c in salary_dataset.columns:\n",
        "    print (\"---- %s ---\" % c)\n",
        "    print (salary_dataset[c].value_counts())"
      ],
      "metadata": {
        "colab": {
          "base_uri": "https://localhost:8080/"
        },
        "id": "DqRq4XvUraVA",
        "outputId": "79db45ba-6473-4604-dd81-ee280ca4b3b6"
      },
      "execution_count": null,
      "outputs": [
        {
          "output_type": "stream",
          "name": "stdout",
          "text": [
            "---- age ---\n",
            "36    852\n",
            "31    851\n",
            "33    837\n",
            "34    836\n",
            "37    828\n",
            "     ... \n",
            "82      7\n",
            "83      5\n",
            "88      3\n",
            "85      3\n",
            "86      1\n",
            "Name: age, Length: 72, dtype: int64\n",
            "---- workclass ---\n",
            " Private             22286\n",
            " Self-emp-not-inc     2499\n",
            " Local-gov            2067\n",
            " State-gov            1279\n",
            " Self-emp-inc         1074\n",
            " Federal-gov           943\n",
            " Without-pay            14\n",
            "Name: workclass, dtype: int64\n",
            "---- fnlwgt ---\n",
            "203488    13\n",
            "123011    12\n",
            "113364    12\n",
            "164190    12\n",
            "121124    12\n",
            "          ..\n",
            "275818     1\n",
            "318082     1\n",
            "138342     1\n",
            "158040     1\n",
            "201490     1\n",
            "Name: fnlwgt, Length: 20263, dtype: int64\n",
            "---- education ---\n",
            " HS-grad         9840\n",
            " Some-college    6678\n",
            " Bachelors       5044\n",
            " Masters         1627\n",
            " Assoc-voc       1307\n",
            " 11th            1048\n",
            " Assoc-acdm      1008\n",
            " 10th             820\n",
            " 7th-8th          557\n",
            " Prof-school      542\n",
            " 9th              455\n",
            " 12th             377\n",
            " Doctorate        375\n",
            " 5th-6th          288\n",
            " 1st-4th          151\n",
            " Preschool         45\n",
            "Name: education, dtype: int64\n",
            "---- educational-num ---\n",
            "9     9840\n",
            "10    6678\n",
            "13    5044\n",
            "14    1627\n",
            "11    1307\n",
            "7     1048\n",
            "12    1008\n",
            "6      820\n",
            "4      557\n",
            "15     542\n",
            "5      455\n",
            "8      377\n",
            "16     375\n",
            "3      288\n",
            "2      151\n",
            "1       45\n",
            "Name: educational-num, dtype: int64\n",
            "---- marital ---\n",
            " Married-civ-spouse       14065\n",
            " Never-married             9726\n",
            " Divorced                  4214\n",
            " Separated                  939\n",
            " Widowed                    827\n",
            " Married-spouse-absent      370\n",
            " Married-AF-spouse           21\n",
            "Name: marital, dtype: int64\n",
            "---- occupation ---\n",
            " Prof-specialty       4038\n",
            " Craft-repair         4030\n",
            " Exec-managerial      3992\n",
            " Adm-clerical         3721\n",
            " Sales                3584\n",
            " Other-service        3212\n",
            " Machine-op-inspct    1966\n",
            " Transport-moving     1572\n",
            " Handlers-cleaners    1350\n",
            " Farming-fishing       989\n",
            " Tech-support          912\n",
            " Protective-serv       644\n",
            " Priv-house-serv       143\n",
            " Armed-Forces            9\n",
            "Name: occupation, dtype: int64\n",
            "---- relationship ---\n",
            " Husband           12463\n",
            " Not-in-family      7726\n",
            " Own-child          4466\n",
            " Unmarried          3212\n",
            " Wife               1406\n",
            " Other-relative      889\n",
            "Name: relationship, dtype: int64\n",
            "---- race ---\n",
            " White                 25933\n",
            " Black                  2817\n",
            " Asian-Pac-Islander      895\n",
            " Amer-Indian-Eskimo      286\n",
            " Other                   231\n",
            "Name: race, dtype: int64\n",
            "---- gender ---\n",
            " Male      20380\n",
            " Female     9782\n",
            "Name: gender, dtype: int64\n",
            "---- capital gain ---\n",
            "0        27624\n",
            "15024      337\n",
            "7688       270\n",
            "7298       240\n",
            "99999      148\n",
            "         ...  \n",
            "1639         1\n",
            "6097         1\n",
            "2538         1\n",
            "1455         1\n",
            "1086         1\n",
            "Name: capital gain, Length: 118, dtype: int64\n",
            "---- capital loss ---\n",
            "0       28735\n",
            "1902      194\n",
            "1977      162\n",
            "1887      155\n",
            "1848       50\n",
            "        ...  \n",
            "2080        1\n",
            "4356        1\n",
            "1539        1\n",
            "1844        1\n",
            "1411        1\n",
            "Name: capital loss, Length: 90, dtype: int64\n",
            "---- hours per week ---\n",
            "40    14251\n",
            "50     2718\n",
            "45     1753\n",
            "60     1405\n",
            "35     1184\n",
            "      ...  \n",
            "82        1\n",
            "94        1\n",
            "92        1\n",
            "87        1\n",
            "74        1\n",
            "Name: hours per week, Length: 94, dtype: int64\n",
            "---- country ---\n",
            " United-States                 27504\n",
            " Mexico                          610\n",
            " Philippines                     188\n",
            " Germany                         128\n",
            " Puerto-Rico                     109\n",
            " Canada                          107\n",
            " India                           100\n",
            " El-Salvador                     100\n",
            " Cuba                             92\n",
            " England                          86\n",
            " Jamaica                          80\n",
            " South                            71\n",
            " China                            68\n",
            " Italy                            68\n",
            " Dominican-Republic               67\n",
            " Vietnam                          64\n",
            " Guatemala                        63\n",
            " Japan                            59\n",
            " Poland                           56\n",
            " Columbia                         56\n",
            " Iran                             42\n",
            " Taiwan                           42\n",
            " Haiti                            42\n",
            " Portugal                         34\n",
            " Nicaragua                        33\n",
            " Peru                             30\n",
            " Greece                           29\n",
            " France                           27\n",
            " Ecuador                          27\n",
            " Ireland                          24\n",
            " Hong                             19\n",
            " Cambodia                         18\n",
            " Trinadad&Tobago                  18\n",
            " Thailand                         17\n",
            " Laos                             17\n",
            " Yugoslavia                       16\n",
            " Outlying-US(Guam-USVI-etc)       14\n",
            " Hungary                          13\n",
            " Honduras                         12\n",
            " Scotland                         11\n",
            " Holand-Netherlands                1\n",
            "Name: country, dtype: int64\n",
            "---- income ---\n",
            " <=50K    22654\n",
            " >50K      7508\n",
            "Name: income, dtype: int64\n"
          ]
        }
      ]
    },
    {
      "cell_type": "code",
      "source": [
        "salary_dataset.drop(['educational-num','age', 'hours per week', 'fnlwgt', 'capital gain','capital loss', 'country'], axis=1, inplace=True)"
      ],
      "metadata": {
        "id": "0e5zO3NAryaA"
      },
      "execution_count": null,
      "outputs": []
    },
    {
      "cell_type": "code",
      "source": [
        "salary_dataset.columns"
      ],
      "metadata": {
        "colab": {
          "base_uri": "https://localhost:8080/"
        },
        "id": "4ZSxGsuTsDph",
        "outputId": "a92cf018-9ecf-4fd9-8e89-495516459849"
      },
      "execution_count": null,
      "outputs": [
        {
          "output_type": "execute_result",
          "data": {
            "text/plain": [
              "Index(['workclass', 'education', 'marital', 'occupation', 'relationship',\n",
              "       'race', 'gender', 'income'],\n",
              "      dtype='object')"
            ]
          },
          "metadata": {},
          "execution_count": 74
        }
      ]
    },
    {
      "cell_type": "code",
      "source": [
        "salary_dataset['income'] = salary_dataset['income'].map({' <=50K': 0, ' >50K': 1}).astype(int)"
      ],
      "metadata": {
        "id": "w61qAIPQsIaH"
      },
      "execution_count": null,
      "outputs": []
    },
    {
      "cell_type": "markdown",
      "source": [
        "**NEW DATA SET**"
      ],
      "metadata": {
        "id": "isYwKz4D68Xt"
      }
    },
    {
      "cell_type": "code",
      "source": [
        "salary_dataset.head()"
      ],
      "metadata": {
        "colab": {
          "base_uri": "https://localhost:8080/",
          "height": 206
        },
        "id": "W4fmsR7VuTDa",
        "outputId": "c9039b6e-8f37-4eb0-f0e1-3034b7c701a3"
      },
      "execution_count": null,
      "outputs": [
        {
          "output_type": "execute_result",
          "data": {
            "text/plain": [
              "           workclass   education              marital          occupation  \\\n",
              "0          State-gov   Bachelors        Never-married        Adm-clerical   \n",
              "1   Self-emp-not-inc   Bachelors   Married-civ-spouse     Exec-managerial   \n",
              "2            Private     HS-grad             Divorced   Handlers-cleaners   \n",
              "3            Private        11th   Married-civ-spouse   Handlers-cleaners   \n",
              "4            Private   Bachelors   Married-civ-spouse      Prof-specialty   \n",
              "\n",
              "     relationship    race   gender  income  \n",
              "0   Not-in-family   White     Male       0  \n",
              "1         Husband   White     Male       0  \n",
              "2   Not-in-family   White     Male       0  \n",
              "3         Husband   Black     Male       0  \n",
              "4            Wife   Black   Female       0  "
            ],
            "text/html": [
              "\n",
              "  <div id=\"df-ac371267-1b60-4393-8a21-cc87b78ec479\">\n",
              "    <div class=\"colab-df-container\">\n",
              "      <div>\n",
              "<style scoped>\n",
              "    .dataframe tbody tr th:only-of-type {\n",
              "        vertical-align: middle;\n",
              "    }\n",
              "\n",
              "    .dataframe tbody tr th {\n",
              "        vertical-align: top;\n",
              "    }\n",
              "\n",
              "    .dataframe thead th {\n",
              "        text-align: right;\n",
              "    }\n",
              "</style>\n",
              "<table border=\"1\" class=\"dataframe\">\n",
              "  <thead>\n",
              "    <tr style=\"text-align: right;\">\n",
              "      <th></th>\n",
              "      <th>workclass</th>\n",
              "      <th>education</th>\n",
              "      <th>marital</th>\n",
              "      <th>occupation</th>\n",
              "      <th>relationship</th>\n",
              "      <th>race</th>\n",
              "      <th>gender</th>\n",
              "      <th>income</th>\n",
              "    </tr>\n",
              "  </thead>\n",
              "  <tbody>\n",
              "    <tr>\n",
              "      <th>0</th>\n",
              "      <td>State-gov</td>\n",
              "      <td>Bachelors</td>\n",
              "      <td>Never-married</td>\n",
              "      <td>Adm-clerical</td>\n",
              "      <td>Not-in-family</td>\n",
              "      <td>White</td>\n",
              "      <td>Male</td>\n",
              "      <td>0</td>\n",
              "    </tr>\n",
              "    <tr>\n",
              "      <th>1</th>\n",
              "      <td>Self-emp-not-inc</td>\n",
              "      <td>Bachelors</td>\n",
              "      <td>Married-civ-spouse</td>\n",
              "      <td>Exec-managerial</td>\n",
              "      <td>Husband</td>\n",
              "      <td>White</td>\n",
              "      <td>Male</td>\n",
              "      <td>0</td>\n",
              "    </tr>\n",
              "    <tr>\n",
              "      <th>2</th>\n",
              "      <td>Private</td>\n",
              "      <td>HS-grad</td>\n",
              "      <td>Divorced</td>\n",
              "      <td>Handlers-cleaners</td>\n",
              "      <td>Not-in-family</td>\n",
              "      <td>White</td>\n",
              "      <td>Male</td>\n",
              "      <td>0</td>\n",
              "    </tr>\n",
              "    <tr>\n",
              "      <th>3</th>\n",
              "      <td>Private</td>\n",
              "      <td>11th</td>\n",
              "      <td>Married-civ-spouse</td>\n",
              "      <td>Handlers-cleaners</td>\n",
              "      <td>Husband</td>\n",
              "      <td>Black</td>\n",
              "      <td>Male</td>\n",
              "      <td>0</td>\n",
              "    </tr>\n",
              "    <tr>\n",
              "      <th>4</th>\n",
              "      <td>Private</td>\n",
              "      <td>Bachelors</td>\n",
              "      <td>Married-civ-spouse</td>\n",
              "      <td>Prof-specialty</td>\n",
              "      <td>Wife</td>\n",
              "      <td>Black</td>\n",
              "      <td>Female</td>\n",
              "      <td>0</td>\n",
              "    </tr>\n",
              "  </tbody>\n",
              "</table>\n",
              "</div>\n",
              "      <button class=\"colab-df-convert\" onclick=\"convertToInteractive('df-ac371267-1b60-4393-8a21-cc87b78ec479')\"\n",
              "              title=\"Convert this dataframe to an interactive table.\"\n",
              "              style=\"display:none;\">\n",
              "        \n",
              "  <svg xmlns=\"http://www.w3.org/2000/svg\" height=\"24px\"viewBox=\"0 0 24 24\"\n",
              "       width=\"24px\">\n",
              "    <path d=\"M0 0h24v24H0V0z\" fill=\"none\"/>\n",
              "    <path d=\"M18.56 5.44l.94 2.06.94-2.06 2.06-.94-2.06-.94-.94-2.06-.94 2.06-2.06.94zm-11 1L8.5 8.5l.94-2.06 2.06-.94-2.06-.94L8.5 2.5l-.94 2.06-2.06.94zm10 10l.94 2.06.94-2.06 2.06-.94-2.06-.94-.94-2.06-.94 2.06-2.06.94z\"/><path d=\"M17.41 7.96l-1.37-1.37c-.4-.4-.92-.59-1.43-.59-.52 0-1.04.2-1.43.59L10.3 9.45l-7.72 7.72c-.78.78-.78 2.05 0 2.83L4 21.41c.39.39.9.59 1.41.59.51 0 1.02-.2 1.41-.59l7.78-7.78 2.81-2.81c.8-.78.8-2.07 0-2.86zM5.41 20L4 18.59l7.72-7.72 1.47 1.35L5.41 20z\"/>\n",
              "  </svg>\n",
              "      </button>\n",
              "      \n",
              "  <style>\n",
              "    .colab-df-container {\n",
              "      display:flex;\n",
              "      flex-wrap:wrap;\n",
              "      gap: 12px;\n",
              "    }\n",
              "\n",
              "    .colab-df-convert {\n",
              "      background-color: #E8F0FE;\n",
              "      border: none;\n",
              "      border-radius: 50%;\n",
              "      cursor: pointer;\n",
              "      display: none;\n",
              "      fill: #1967D2;\n",
              "      height: 32px;\n",
              "      padding: 0 0 0 0;\n",
              "      width: 32px;\n",
              "    }\n",
              "\n",
              "    .colab-df-convert:hover {\n",
              "      background-color: #E2EBFA;\n",
              "      box-shadow: 0px 1px 2px rgba(60, 64, 67, 0.3), 0px 1px 3px 1px rgba(60, 64, 67, 0.15);\n",
              "      fill: #174EA6;\n",
              "    }\n",
              "\n",
              "    [theme=dark] .colab-df-convert {\n",
              "      background-color: #3B4455;\n",
              "      fill: #D2E3FC;\n",
              "    }\n",
              "\n",
              "    [theme=dark] .colab-df-convert:hover {\n",
              "      background-color: #434B5C;\n",
              "      box-shadow: 0px 1px 3px 1px rgba(0, 0, 0, 0.15);\n",
              "      filter: drop-shadow(0px 1px 2px rgba(0, 0, 0, 0.3));\n",
              "      fill: #FFFFFF;\n",
              "    }\n",
              "  </style>\n",
              "\n",
              "      <script>\n",
              "        const buttonEl =\n",
              "          document.querySelector('#df-ac371267-1b60-4393-8a21-cc87b78ec479 button.colab-df-convert');\n",
              "        buttonEl.style.display =\n",
              "          google.colab.kernel.accessAllowed ? 'block' : 'none';\n",
              "\n",
              "        async function convertToInteractive(key) {\n",
              "          const element = document.querySelector('#df-ac371267-1b60-4393-8a21-cc87b78ec479');\n",
              "          const dataTable =\n",
              "            await google.colab.kernel.invokeFunction('convertToInteractive',\n",
              "                                                     [key], {});\n",
              "          if (!dataTable) return;\n",
              "\n",
              "          const docLinkHtml = 'Like what you see? Visit the ' +\n",
              "            '<a target=\"_blank\" href=https://colab.research.google.com/notebooks/data_table.ipynb>data table notebook</a>'\n",
              "            + ' to learn more about interactive tables.';\n",
              "          element.innerHTML = '';\n",
              "          dataTable['output_type'] = 'display_data';\n",
              "          await google.colab.output.renderOutput(dataTable, element);\n",
              "          const docLink = document.createElement('div');\n",
              "          docLink.innerHTML = docLinkHtml;\n",
              "          element.appendChild(docLink);\n",
              "        }\n",
              "      </script>\n",
              "    </div>\n",
              "  </div>\n",
              "  "
            ]
          },
          "metadata": {},
          "execution_count": 76
        }
      ]
    },
    {
      "cell_type": "code",
      "source": [
        "for c in salary_dataset.columns:\n",
        "    print (\"---- %s ---\" % c)\n",
        "    print (salary_dataset[c].value_counts())"
      ],
      "metadata": {
        "colab": {
          "base_uri": "https://localhost:8080/"
        },
        "id": "YqojDWWUulfB",
        "outputId": "de056a53-7d76-48b9-ab62-6015361844f6"
      },
      "execution_count": null,
      "outputs": [
        {
          "output_type": "stream",
          "name": "stdout",
          "text": [
            "---- workclass ---\n",
            " Private             22286\n",
            " Self-emp-not-inc     2499\n",
            " Local-gov            2067\n",
            " State-gov            1279\n",
            " Self-emp-inc         1074\n",
            " Federal-gov           943\n",
            " Without-pay            14\n",
            "Name: workclass, dtype: int64\n",
            "---- education ---\n",
            " HS-grad         9840\n",
            " Some-college    6678\n",
            " Bachelors       5044\n",
            " Masters         1627\n",
            " Assoc-voc       1307\n",
            " 11th            1048\n",
            " Assoc-acdm      1008\n",
            " 10th             820\n",
            " 7th-8th          557\n",
            " Prof-school      542\n",
            " 9th              455\n",
            " 12th             377\n",
            " Doctorate        375\n",
            " 5th-6th          288\n",
            " 1st-4th          151\n",
            " Preschool         45\n",
            "Name: education, dtype: int64\n",
            "---- marital ---\n",
            " Married-civ-spouse       14065\n",
            " Never-married             9726\n",
            " Divorced                  4214\n",
            " Separated                  939\n",
            " Widowed                    827\n",
            " Married-spouse-absent      370\n",
            " Married-AF-spouse           21\n",
            "Name: marital, dtype: int64\n",
            "---- occupation ---\n",
            " Prof-specialty       4038\n",
            " Craft-repair         4030\n",
            " Exec-managerial      3992\n",
            " Adm-clerical         3721\n",
            " Sales                3584\n",
            " Other-service        3212\n",
            " Machine-op-inspct    1966\n",
            " Transport-moving     1572\n",
            " Handlers-cleaners    1350\n",
            " Farming-fishing       989\n",
            " Tech-support          912\n",
            " Protective-serv       644\n",
            " Priv-house-serv       143\n",
            " Armed-Forces            9\n",
            "Name: occupation, dtype: int64\n",
            "---- relationship ---\n",
            " Husband           12463\n",
            " Not-in-family      7726\n",
            " Own-child          4466\n",
            " Unmarried          3212\n",
            " Wife               1406\n",
            " Other-relative      889\n",
            "Name: relationship, dtype: int64\n",
            "---- race ---\n",
            " White                 25933\n",
            " Black                  2817\n",
            " Asian-Pac-Islander      895\n",
            " Amer-Indian-Eskimo      286\n",
            " Other                   231\n",
            "Name: race, dtype: int64\n",
            "---- gender ---\n",
            " Male      20380\n",
            " Female     9782\n",
            "Name: gender, dtype: int64\n",
            "---- income ---\n",
            "0    22654\n",
            "1     7508\n",
            "Name: income, dtype: int64\n"
          ]
        }
      ]
    },
    {
      "cell_type": "markdown",
      "source": [
        "**CHANGING THE DATATYPE FROM OBJECT TO INTEGER**"
      ],
      "metadata": {
        "id": "e7AVecAU7Cwb"
      }
    },
    {
      "cell_type": "code",
      "source": [
        "salary_dataset['gender'] = salary_dataset['gender'].map({' Male': 0, ' Female': 1}).astype(int)\n",
        "#race\n",
        "salary_dataset['race'] = salary_dataset['race'].map({' Black': 0, ' Asian-Pac-Islander': 1,' Other': 2, ' White': 3, ' Amer-Indian-Eskimo': 4}).astype(int)\n",
        "#marital\n",
        "salary_dataset['marital'] = salary_dataset['marital'].map({' Married-spouse-absent': 0, ' Widowed': 1, ' Married-civ-spouse': 2, ' Separated': 3, ' Divorced': 4,' Never-married': 5, ' Married-AF-spouse': 6}).astype(int)\n",
        "#workclass\n",
        "salary_dataset['workclass'] = salary_dataset['workclass'].map({' Self-emp-inc': 0, ' State-gov': 1,' Federal-gov': 2, ' Without-pay': 3, ' Local-gov': 4,' Private': 5, ' Self-emp-not-inc': 6}).astype(int)\n",
        "#education\n",
        "salary_dataset['education'] = salary_dataset['education'].map({' Some-college': 0, ' Preschool': 1, ' 5th-6th': 2, ' HS-grad': 3, ' Masters': 4, ' 12th': 5, ' 7th-8th': 6, ' Prof-school': 7,' 1st-4th': 8, ' Assoc-acdm': 9, ' Doctorate': 10, ' 11th': 11,' Bachelors': 12, ' 10th': 13,' Assoc-voc': 14,' 9th': 15}).astype(int)\n",
        "#occupation\n",
        "salary_dataset['occupation'] = salary_dataset['occupation'].map({ ' Farming-fishing': 1, ' Tech-support': 2, ' Adm-clerical': 3, ' Handlers-cleaners': 4,' Prof-specialty': 5,' Machine-op-inspct': 6, ' Exec-managerial': 7,' Priv-house-serv': 8,' Craft-repair': 9,' Sales': 10, ' Transport-moving': 11, ' Armed-Forces': 12, ' Other-service': 13,' Protective-serv':14}).astype(int)\n",
        "#relationship\n",
        "salary_dataset['relationship'] = salary_dataset['relationship'].map({' Not-in-family': 0, ' Wife': 1, ' Other-relative': 2, ' Unmarried': 3,' Husband': 4,' Own-child': 5}).astype(int)"
      ],
      "metadata": {
        "id": "TsFvcMQHuoOp"
      },
      "execution_count": null,
      "outputs": []
    },
    {
      "cell_type": "markdown",
      "source": [
        "**COMPLETELY NEW DATA SET**"
      ],
      "metadata": {
        "id": "4rudQS2q7Inu"
      }
    },
    {
      "cell_type": "code",
      "source": [
        "salary_dataset.head()"
      ],
      "metadata": {
        "colab": {
          "base_uri": "https://localhost:8080/",
          "height": 206
        },
        "id": "C9LNCD0LwOvB",
        "outputId": "baf79496-a27b-4d91-e479-e30022acb618"
      },
      "execution_count": null,
      "outputs": [
        {
          "output_type": "execute_result",
          "data": {
            "text/plain": [
              "   workclass  education  marital  occupation  relationship  race  gender  \\\n",
              "0          1         12        5           3             0     3       0   \n",
              "1          6         12        2           7             4     3       0   \n",
              "2          5          3        4           4             0     3       0   \n",
              "3          5         11        2           4             4     0       0   \n",
              "4          5         12        2           5             1     0       1   \n",
              "\n",
              "   income  \n",
              "0       0  \n",
              "1       0  \n",
              "2       0  \n",
              "3       0  \n",
              "4       0  "
            ],
            "text/html": [
              "\n",
              "  <div id=\"df-e3c2e38f-665a-454e-9c13-5ac30e2714d2\">\n",
              "    <div class=\"colab-df-container\">\n",
              "      <div>\n",
              "<style scoped>\n",
              "    .dataframe tbody tr th:only-of-type {\n",
              "        vertical-align: middle;\n",
              "    }\n",
              "\n",
              "    .dataframe tbody tr th {\n",
              "        vertical-align: top;\n",
              "    }\n",
              "\n",
              "    .dataframe thead th {\n",
              "        text-align: right;\n",
              "    }\n",
              "</style>\n",
              "<table border=\"1\" class=\"dataframe\">\n",
              "  <thead>\n",
              "    <tr style=\"text-align: right;\">\n",
              "      <th></th>\n",
              "      <th>workclass</th>\n",
              "      <th>education</th>\n",
              "      <th>marital</th>\n",
              "      <th>occupation</th>\n",
              "      <th>relationship</th>\n",
              "      <th>race</th>\n",
              "      <th>gender</th>\n",
              "      <th>income</th>\n",
              "    </tr>\n",
              "  </thead>\n",
              "  <tbody>\n",
              "    <tr>\n",
              "      <th>0</th>\n",
              "      <td>1</td>\n",
              "      <td>12</td>\n",
              "      <td>5</td>\n",
              "      <td>3</td>\n",
              "      <td>0</td>\n",
              "      <td>3</td>\n",
              "      <td>0</td>\n",
              "      <td>0</td>\n",
              "    </tr>\n",
              "    <tr>\n",
              "      <th>1</th>\n",
              "      <td>6</td>\n",
              "      <td>12</td>\n",
              "      <td>2</td>\n",
              "      <td>7</td>\n",
              "      <td>4</td>\n",
              "      <td>3</td>\n",
              "      <td>0</td>\n",
              "      <td>0</td>\n",
              "    </tr>\n",
              "    <tr>\n",
              "      <th>2</th>\n",
              "      <td>5</td>\n",
              "      <td>3</td>\n",
              "      <td>4</td>\n",
              "      <td>4</td>\n",
              "      <td>0</td>\n",
              "      <td>3</td>\n",
              "      <td>0</td>\n",
              "      <td>0</td>\n",
              "    </tr>\n",
              "    <tr>\n",
              "      <th>3</th>\n",
              "      <td>5</td>\n",
              "      <td>11</td>\n",
              "      <td>2</td>\n",
              "      <td>4</td>\n",
              "      <td>4</td>\n",
              "      <td>0</td>\n",
              "      <td>0</td>\n",
              "      <td>0</td>\n",
              "    </tr>\n",
              "    <tr>\n",
              "      <th>4</th>\n",
              "      <td>5</td>\n",
              "      <td>12</td>\n",
              "      <td>2</td>\n",
              "      <td>5</td>\n",
              "      <td>1</td>\n",
              "      <td>0</td>\n",
              "      <td>1</td>\n",
              "      <td>0</td>\n",
              "    </tr>\n",
              "  </tbody>\n",
              "</table>\n",
              "</div>\n",
              "      <button class=\"colab-df-convert\" onclick=\"convertToInteractive('df-e3c2e38f-665a-454e-9c13-5ac30e2714d2')\"\n",
              "              title=\"Convert this dataframe to an interactive table.\"\n",
              "              style=\"display:none;\">\n",
              "        \n",
              "  <svg xmlns=\"http://www.w3.org/2000/svg\" height=\"24px\"viewBox=\"0 0 24 24\"\n",
              "       width=\"24px\">\n",
              "    <path d=\"M0 0h24v24H0V0z\" fill=\"none\"/>\n",
              "    <path d=\"M18.56 5.44l.94 2.06.94-2.06 2.06-.94-2.06-.94-.94-2.06-.94 2.06-2.06.94zm-11 1L8.5 8.5l.94-2.06 2.06-.94-2.06-.94L8.5 2.5l-.94 2.06-2.06.94zm10 10l.94 2.06.94-2.06 2.06-.94-2.06-.94-.94-2.06-.94 2.06-2.06.94z\"/><path d=\"M17.41 7.96l-1.37-1.37c-.4-.4-.92-.59-1.43-.59-.52 0-1.04.2-1.43.59L10.3 9.45l-7.72 7.72c-.78.78-.78 2.05 0 2.83L4 21.41c.39.39.9.59 1.41.59.51 0 1.02-.2 1.41-.59l7.78-7.78 2.81-2.81c.8-.78.8-2.07 0-2.86zM5.41 20L4 18.59l7.72-7.72 1.47 1.35L5.41 20z\"/>\n",
              "  </svg>\n",
              "      </button>\n",
              "      \n",
              "  <style>\n",
              "    .colab-df-container {\n",
              "      display:flex;\n",
              "      flex-wrap:wrap;\n",
              "      gap: 12px;\n",
              "    }\n",
              "\n",
              "    .colab-df-convert {\n",
              "      background-color: #E8F0FE;\n",
              "      border: none;\n",
              "      border-radius: 50%;\n",
              "      cursor: pointer;\n",
              "      display: none;\n",
              "      fill: #1967D2;\n",
              "      height: 32px;\n",
              "      padding: 0 0 0 0;\n",
              "      width: 32px;\n",
              "    }\n",
              "\n",
              "    .colab-df-convert:hover {\n",
              "      background-color: #E2EBFA;\n",
              "      box-shadow: 0px 1px 2px rgba(60, 64, 67, 0.3), 0px 1px 3px 1px rgba(60, 64, 67, 0.15);\n",
              "      fill: #174EA6;\n",
              "    }\n",
              "\n",
              "    [theme=dark] .colab-df-convert {\n",
              "      background-color: #3B4455;\n",
              "      fill: #D2E3FC;\n",
              "    }\n",
              "\n",
              "    [theme=dark] .colab-df-convert:hover {\n",
              "      background-color: #434B5C;\n",
              "      box-shadow: 0px 1px 3px 1px rgba(0, 0, 0, 0.15);\n",
              "      filter: drop-shadow(0px 1px 2px rgba(0, 0, 0, 0.3));\n",
              "      fill: #FFFFFF;\n",
              "    }\n",
              "  </style>\n",
              "\n",
              "      <script>\n",
              "        const buttonEl =\n",
              "          document.querySelector('#df-e3c2e38f-665a-454e-9c13-5ac30e2714d2 button.colab-df-convert');\n",
              "        buttonEl.style.display =\n",
              "          google.colab.kernel.accessAllowed ? 'block' : 'none';\n",
              "\n",
              "        async function convertToInteractive(key) {\n",
              "          const element = document.querySelector('#df-e3c2e38f-665a-454e-9c13-5ac30e2714d2');\n",
              "          const dataTable =\n",
              "            await google.colab.kernel.invokeFunction('convertToInteractive',\n",
              "                                                     [key], {});\n",
              "          if (!dataTable) return;\n",
              "\n",
              "          const docLinkHtml = 'Like what you see? Visit the ' +\n",
              "            '<a target=\"_blank\" href=https://colab.research.google.com/notebooks/data_table.ipynb>data table notebook</a>'\n",
              "            + ' to learn more about interactive tables.';\n",
              "          element.innerHTML = '';\n",
              "          dataTable['output_type'] = 'display_data';\n",
              "          await google.colab.output.renderOutput(dataTable, element);\n",
              "          const docLink = document.createElement('div');\n",
              "          docLink.innerHTML = docLinkHtml;\n",
              "          element.appendChild(docLink);\n",
              "        }\n",
              "      </script>\n",
              "    </div>\n",
              "  </div>\n",
              "  "
            ]
          },
          "metadata": {},
          "execution_count": 79
        }
      ]
    },
    {
      "cell_type": "markdown",
      "source": [
        "**RELATION BETWEEN THE COLUMNS WITH INCOME COLUMN**"
      ],
      "metadata": {
        "id": "BcVSVBya7SbN"
      }
    },
    {
      "cell_type": "markdown",
      "source": [
        "**RELATION WITH WORKCLASS**"
      ],
      "metadata": {
        "id": "XXeEdBod7gZg"
      }
    },
    {
      "cell_type": "code",
      "source": [
        "salary_dataset.groupby('workclass').income.mean().plot(kind='bar')\n"
      ],
      "metadata": {
        "colab": {
          "base_uri": "https://localhost:8080/",
          "height": 293
        },
        "id": "hcZmdzkmwfw5",
        "outputId": "e04c3ea5-c5bc-4dae-9dac-506042fab348"
      },
      "execution_count": null,
      "outputs": [
        {
          "output_type": "execute_result",
          "data": {
            "text/plain": [
              "<matplotlib.axes._subplots.AxesSubplot at 0x7f4803c4a290>"
            ]
          },
          "metadata": {},
          "execution_count": 80
        },
        {
          "output_type": "display_data",
          "data": {
            "text/plain": [
              "<Figure size 432x288 with 1 Axes>"
            ],
            "image/png": "[encoded data removed]"
          },
          "metadata": {
            "needs_background": "light"
          }
        }
      ]
    },
    {
      "cell_type": "markdown",
      "source": [
        "**RELATION WITH EDUCATION**"
      ],
      "metadata": {
        "id": "TNUtPC5d7nGe"
      }
    },
    {
      "cell_type": "code",
      "source": [
        "salary_dataset.groupby('education').income.mean().plot(kind='bar')\n"
      ],
      "metadata": {
        "colab": {
          "base_uri": "https://localhost:8080/",
          "height": 299
        },
        "id": "56mRNYn7xAUl",
        "outputId": "e29eb338-01df-4b63-d9a6-46141094d317"
      },
      "execution_count": null,
      "outputs": [
        {
          "output_type": "execute_result",
          "data": {
            "text/plain": [
              "<matplotlib.axes._subplots.AxesSubplot at 0x7f4803e53150>"
            ]
          },
          "metadata": {},
          "execution_count": 81
        },
        {
          "output_type": "display_data",
          "data": {
            "text/plain": [
              "<Figure size 432x288 with 1 Axes>"
            ],
            "image/png": "[encoded data removed]"
          },
          "metadata": {
            "needs_background": "light"
          }
        }
      ]
    },
    {
      "cell_type": "markdown",
      "source": [
        "**RELATION WITH OCCUPATION**"
      ],
      "metadata": {
        "id": "S89MhkG97s83"
      }
    },
    {
      "cell_type": "code",
      "source": [
        "salary_dataset.groupby('occupation').income.mean().plot(kind='bar')\n"
      ],
      "metadata": {
        "colab": {
          "base_uri": "https://localhost:8080/",
          "height": 299
        },
        "id": "EWP8hkHRxG-5",
        "outputId": "91b57d1e-7521-42d2-cb22-f8ec4c5b5a31"
      },
      "execution_count": null,
      "outputs": [
        {
          "output_type": "execute_result",
          "data": {
            "text/plain": [
              "<matplotlib.axes._subplots.AxesSubplot at 0x7f4803b962d0>"
            ]
          },
          "metadata": {},
          "execution_count": 82
        },
        {
          "output_type": "display_data",
          "data": {
            "text/plain": [
              "<Figure size 432x288 with 1 Axes>"
            ],
            "image/png": "[encoded data removed]"
          },
          "metadata": {
            "needs_background": "light"
          }
        }
      ]
    },
    {
      "cell_type": "markdown",
      "source": [
        "**RELATION WITH RELATIONSHIP**"
      ],
      "metadata": {
        "id": "tNqp45R87wJ2"
      }
    },
    {
      "cell_type": "code",
      "source": [
        "salary_dataset.groupby('relationship').income.mean().plot(kind='bar')\n"
      ],
      "metadata": {
        "colab": {
          "base_uri": "https://localhost:8080/",
          "height": 293
        },
        "id": "7PSGxwTlxI0S",
        "outputId": "7d59b4a8-6ff4-4bea-a8c2-c79c72e29a26"
      },
      "execution_count": null,
      "outputs": [
        {
          "output_type": "execute_result",
          "data": {
            "text/plain": [
              "<matplotlib.axes._subplots.AxesSubplot at 0x7f4803abc510>"
            ]
          },
          "metadata": {},
          "execution_count": 83
        },
        {
          "output_type": "display_data",
          "data": {
            "text/plain": [
              "<Figure size 432x288 with 1 Axes>"
            ],
            "image/png": "[encoded data removed]"
          },
          "metadata": {
            "needs_background": "light"
          }
        }
      ]
    },
    {
      "cell_type": "markdown",
      "source": [
        "**RELATION WITH RACE**"
      ],
      "metadata": {
        "id": "8R7xAVD27z9G"
      }
    },
    {
      "cell_type": "code",
      "source": [
        "salary_dataset.groupby('race').income.mean().plot(kind='bar')\n"
      ],
      "metadata": {
        "colab": {
          "base_uri": "https://localhost:8080/",
          "height": 293
        },
        "id": "VzmAD4UCxK4J",
        "outputId": "8672b8e2-750d-4491-8d09-75081f6bca7f"
      },
      "execution_count": null,
      "outputs": [
        {
          "output_type": "execute_result",
          "data": {
            "text/plain": [
              "<matplotlib.axes._subplots.AxesSubplot at 0x7f4803a2f210>"
            ]
          },
          "metadata": {},
          "execution_count": 84
        },
        {
          "output_type": "display_data",
          "data": {
            "text/plain": [
              "<Figure size 432x288 with 1 Axes>"
            ],
            "image/png": "[encoded data removed]"
          },
          "metadata": {
            "needs_background": "light"
          }
        }
      ]
    },
    {
      "cell_type": "markdown",
      "source": [
        ""
      ],
      "metadata": {
        "id": "Ffmc0YGE73hT"
      }
    },
    {
      "cell_type": "markdown",
      "source": [
        "**RELATION WITH GENDER**"
      ],
      "metadata": {
        "id": "aN14A9B376M-"
      }
    },
    {
      "cell_type": "code",
      "source": [
        "salary_dataset.groupby('gender').income.mean().plot(kind='bar')\n"
      ],
      "metadata": {
        "colab": {
          "base_uri": "https://localhost:8080/",
          "height": 293
        },
        "id": "sQ0UrXswxM2o",
        "outputId": "fbed5e15-b1be-4c37-ff0c-d2e53d9ed9e5"
      },
      "execution_count": null,
      "outputs": [
        {
          "output_type": "execute_result",
          "data": {
            "text/plain": [
              "<matplotlib.axes._subplots.AxesSubplot at 0x7f4803a06b10>"
            ]
          },
          "metadata": {},
          "execution_count": 85
        },
        {
          "output_type": "display_data",
          "data": {
            "text/plain": [
              "<Figure size 432x288 with 1 Axes>"
            ],
            "image/png": "[encoded data removed]"
          },
          "metadata": {
            "needs_background": "light"
          }
        }
      ]
    },
    {
      "cell_type": "markdown",
      "source": [
        "# **SPLITTING DATA SET INTO TESTING SET AND TRAINING SET**"
      ],
      "metadata": {
        "id": "Asgy6Mf38DTK"
      }
    },
    {
      "cell_type": "code",
      "source": [
        "df_x = pd.DataFrame(np.c_[salary_dataset['relationship'], salary_dataset['education'], salary_dataset['race'],salary_dataset['occupation'],salary_dataset['gender'],salary_dataset['marital'],salary_dataset['workclass']], columns = ['relationship','education','race','occupation','gender','marital','workclass'])\n",
        "df_y = pd.DataFrame(salary_dataset.income)"
      ],
      "metadata": {
        "id": "y96UWdxpT_PP"
      },
      "execution_count": null,
      "outputs": []
    },
    {
      "cell_type": "code",
      "source": [
        "x_train, x_test, y_train, y_test = train_test_split(df_x, df_y, test_size=0.33, random_state=42)\n",
        "names=[]\n",
        "scores=[]"
      ],
      "metadata": {
        "id": "8pQQOoXPYpzl"
      },
      "execution_count": null,
      "outputs": []
    },
    {
      "cell_type": "code",
      "source": [
        "x_test.shape"
      ],
      "metadata": {
        "colab": {
          "base_uri": "https://localhost:8080/"
        },
        "id": "AEMICEP_iHIv",
        "outputId": "c152024e-ba6c-44e9-8d71-dc3ad953db11"
      },
      "execution_count": null,
      "outputs": [
        {
          "output_type": "execute_result",
          "data": {
            "text/plain": [
              "(9954, 7)"
            ]
          },
          "metadata": {},
          "execution_count": 88
        }
      ]
    },
    {
      "cell_type": "markdown",
      "source": [
        "# **APPLYING DIFFERENT MODELS NOW**"
      ],
      "metadata": {
        "id": "CHKlFAmN8Gse"
      }
    },
    {
      "cell_type": "markdown",
      "source": [
        "**DECISION TREE CLASSIFIER**"
      ],
      "metadata": {
        "id": "uRvlajuS8MvW"
      }
    },
    {
      "cell_type": "code",
      "source": [
        "from sklearn.tree import DecisionTreeClassifier\n",
        "dtree=DecisionTreeClassifier(random_state=42)\n",
        "dtree.fit(x_train,y_train)\n",
        "print(\"Decision tree classification score=\",dtree.score(x_test,y_test))\n",
        "names.append(\"Decison tree\")\n",
        "scores.append(dtree.score(x_test,y_test))\n",
        "p=dtree.predict(x_test)"
      ],
      "metadata": {
        "colab": {
          "base_uri": "https://localhost:8080/"
        },
        "id": "T3qgCWU8Y3ko",
        "outputId": "f50125f1-15f4-4e86-b76f-d3f3c68aebf1"
      },
      "execution_count": null,
      "outputs": [
        {
          "output_type": "stream",
          "name": "stdout",
          "text": [
            "Decision tree classification score= 0.8130399839260599\n"
          ]
        }
      ]
    },
    {
      "cell_type": "markdown",
      "source": [
        "**RANDOM FOREST CLASSIFIER**"
      ],
      "metadata": {
        "id": "epRQoYAv8RQB"
      }
    },
    {
      "cell_type": "code",
      "source": [
        "from sklearn.ensemble import RandomForestClassifier\n",
        "forest=RandomForestClassifier(random_state=42)\n",
        "forest.fit(x_train,y_train)\n",
        "print(\"Random forest classification score=\",forest.score(x_test,y_test))\n",
        "names.append(\"random forest\")\n",
        "scores.append(forest.score(x_test,y_test))\n",
        "q=forest.predict(x_test)"
      ],
      "metadata": {
        "colab": {
          "base_uri": "https://localhost:8080/"
        },
        "id": "SEABPpwwZBEk",
        "outputId": "d1dbe9e0-44a8-4482-c917-8cb521f43aa4"
      },
      "execution_count": null,
      "outputs": [
        {
          "output_type": "stream",
          "name": "stderr",
          "text": [
            "/usr/local/lib/python3.7/dist-packages/ipykernel_launcher.py:3: DataConversionWarning: A column-vector y was passed when a 1d array was expected. Please change the shape of y to (n_samples,), for example using ravel().\n",
            "  This is separate from the ipykernel package so we can avoid doing imports until\n"
          ]
        },
        {
          "output_type": "stream",
          "name": "stdout",
          "text": [
            "Random forest classification score= 0.816857544705646\n"
          ]
        }
      ]
    },
    {
      "cell_type": "markdown",
      "source": [
        "***LINEAR SVC CLASSIFIER ***"
      ],
      "metadata": {
        "id": "E46yQ60d8Ur2"
      }
    },
    {
      "cell_type": "code",
      "source": [
        "from sklearn.svm import LinearSVC\n",
        "svm=LinearSVC(dual=False,random_state=42)\n",
        "svm.fit(x_train,y_train)\n",
        "print(\"SVM classification score=\",svm.score(x_test,y_test))\n",
        "names.append(\"SVM \")\n",
        "scores.append(svm.score(x_test,y_test))\n",
        "r=svm.predict(x_test)"
      ],
      "metadata": {
        "colab": {
          "base_uri": "https://localhost:8080/"
        },
        "id": "YFlhOtdyZFF9",
        "outputId": "fb21d94b-7347-444d-b74d-e61519aa4cec"
      },
      "execution_count": null,
      "outputs": [
        {
          "output_type": "stream",
          "name": "stdout",
          "text": [
            "SVM classification score= 0.7488446855535463\n"
          ]
        },
        {
          "output_type": "stream",
          "name": "stderr",
          "text": [
            "/usr/local/lib/python3.7/dist-packages/sklearn/utils/validation.py:993: DataConversionWarning: A column-vector y was passed when a 1d array was expected. Please change the shape of y to (n_samples, ), for example using ravel().\n",
            "  y = column_or_1d(y, warn=True)\n"
          ]
        }
      ]
    },
    {
      "cell_type": "markdown",
      "source": [
        "**KNN CLASSIFIER**"
      ],
      "metadata": {
        "id": "VT0asqjD8fvg"
      }
    },
    {
      "cell_type": "code",
      "source": [
        "from sklearn.neighbors import KNeighborsClassifier\n",
        "knc=KNeighborsClassifier(n_neighbors=5, metric='minkowski', p=2)\n",
        "knc.fit(x_train,y_train)\n",
        "print(\"KNN classification score=\",knc.score(x_test,y_test))\n",
        "names.append(\"KNN\")\n",
        "scores.append(knc.score(x_test,y_test))\n",
        "s=knc.predict(x_test)\n"
      ],
      "metadata": {
        "colab": {
          "base_uri": "https://localhost:8080/"
        },
        "id": "dYYrLOhec805",
        "outputId": "f92ef101-78b4-47de-849c-3cbfbf0b9996"
      },
      "execution_count": null,
      "outputs": [
        {
          "output_type": "stream",
          "name": "stderr",
          "text": [
            "/usr/local/lib/python3.7/dist-packages/sklearn/neighbors/_classification.py:198: DataConversionWarning: A column-vector y was passed when a 1d array was expected. Please change the shape of y to (n_samples,), for example using ravel().\n",
            "  return self._fit(X, y)\n"
          ]
        },
        {
          "output_type": "stream",
          "name": "stdout",
          "text": [
            "KNN classification score= 0.7816958006831425\n"
          ]
        }
      ]
    },
    {
      "cell_type": "markdown",
      "source": [
        "**LOGISTIC REGRESSION CLASSIFIER**"
      ],
      "metadata": {
        "id": "VoVcPZYq8jhe"
      }
    },
    {
      "cell_type": "code",
      "source": [
        "from sklearn.linear_model import LogisticRegression\n",
        "lgr=LogisticRegression(random_state=42)\n",
        "lgr.fit(x_train,y_train)\n",
        "print(\"Logistic regression score=\",lgr.score(x_test,y_test))\n",
        "names.append(\"Logistic Regression\")\n",
        "scores.append(lgr.score(x_test,y_test))\n",
        "t=lgr.predict(x_test)"
      ],
      "metadata": {
        "colab": {
          "base_uri": "https://localhost:8080/"
        },
        "id": "XHdNHfBIdApj",
        "outputId": "1842b0a1-13bd-4d2d-860f-c9822d561a8a"
      },
      "execution_count": null,
      "outputs": [
        {
          "output_type": "stream",
          "name": "stderr",
          "text": [
            "/usr/local/lib/python3.7/dist-packages/sklearn/utils/validation.py:993: DataConversionWarning: A column-vector y was passed when a 1d array was expected. Please change the shape of y to (n_samples, ), for example using ravel().\n",
            "  y = column_or_1d(y, warn=True)\n"
          ]
        },
        {
          "output_type": "stream",
          "name": "stdout",
          "text": [
            "Logistic regression score= 0.749146071930882\n"
          ]
        }
      ]
    },
    {
      "cell_type": "markdown",
      "source": [
        "# **CLASSIFICATION REPORT**"
      ],
      "metadata": {
        "id": "AF4su6b88qnW"
      }
    },
    {
      "cell_type": "code",
      "source": [
        "from sklearn.metrics import classification_report"
      ],
      "metadata": {
        "id": "0R4KvCkQfO24"
      },
      "execution_count": null,
      "outputs": []
    },
    {
      "cell_type": "markdown",
      "source": [
        "**DECISION TREE CLASSIFICATION REPORT**"
      ],
      "metadata": {
        "id": "ZhOSJeDh8vtG"
      }
    },
    {
      "cell_type": "code",
      "source": [
        "report_dtree=classification_report(y_test,p)\n",
        "print(report_dtree)"
      ],
      "metadata": {
        "colab": {
          "base_uri": "https://localhost:8080/"
        },
        "id": "ehewuNTTfPwo",
        "outputId": "ecc983d8-5e53-4b68-ee9b-8f52247fc33d"
      },
      "execution_count": null,
      "outputs": [
        {
          "output_type": "stream",
          "name": "stdout",
          "text": [
            "              precision    recall  f1-score   support\n",
            "\n",
            "           0       0.86      0.89      0.88      7440\n",
            "           1       0.65      0.57      0.61      2514\n",
            "\n",
            "    accuracy                           0.81      9954\n",
            "   macro avg       0.75      0.73      0.74      9954\n",
            "weighted avg       0.81      0.81      0.81      9954\n",
            "\n"
          ]
        }
      ]
    },
    {
      "cell_type": "markdown",
      "source": [
        "**RANDOM FOREST CLASSIFICATION REPORT**"
      ],
      "metadata": {
        "id": "CIePvzTZ8-5i"
      }
    },
    {
      "cell_type": "code",
      "source": [
        "report_forest=classification_report(y_test,q)\n",
        "print(report_forest)"
      ],
      "metadata": {
        "colab": {
          "base_uri": "https://localhost:8080/"
        },
        "id": "fTANVBLifUtS",
        "outputId": "cdc90727-0e6d-49e5-b46a-f6d6c02522cc"
      },
      "execution_count": null,
      "outputs": [
        {
          "output_type": "stream",
          "name": "stdout",
          "text": [
            "              precision    recall  f1-score   support\n",
            "\n",
            "           0       0.86      0.90      0.88      7440\n",
            "           1       0.65      0.58      0.62      2514\n",
            "\n",
            "    accuracy                           0.82      9954\n",
            "   macro avg       0.76      0.74      0.75      9954\n",
            "weighted avg       0.81      0.82      0.81      9954\n",
            "\n"
          ]
        }
      ]
    },
    {
      "cell_type": "markdown",
      "source": [
        "**LINEAR SVC CLASSIFIACTION REPORT**"
      ],
      "metadata": {
        "id": "YoW2USPx9C9H"
      }
    },
    {
      "cell_type": "code",
      "source": [
        "report_SVM=classification_report(y_test,r)\n",
        "print(report_SVM)"
      ],
      "metadata": {
        "colab": {
          "base_uri": "https://localhost:8080/"
        },
        "id": "cY02f23ug1WE",
        "outputId": "b211192f-c821-49d4-be74-c937ac85d559"
      },
      "execution_count": null,
      "outputs": [
        {
          "output_type": "stream",
          "name": "stdout",
          "text": [
            "              precision    recall  f1-score   support\n",
            "\n",
            "           0       0.77      0.95      0.85      7440\n",
            "           1       0.51      0.14      0.22      2514\n",
            "\n",
            "    accuracy                           0.75      9954\n",
            "   macro avg       0.64      0.55      0.53      9954\n",
            "weighted avg       0.70      0.75      0.69      9954\n",
            "\n"
          ]
        }
      ]
    },
    {
      "cell_type": "markdown",
      "source": [
        "**KNN CLASSIFIER CLASSIFICATION REPORT**"
      ],
      "metadata": {
        "id": "nTFGxokW9HWG"
      }
    },
    {
      "cell_type": "code",
      "source": [
        "report_KNN=classification_report(y_test,s)\n",
        "print(report_KNN)"
      ],
      "metadata": {
        "colab": {
          "base_uri": "https://localhost:8080/"
        },
        "id": "8KVvaQNEfYxo",
        "outputId": "b5097ea9-6cdf-4939-b42c-581ffec1dd82"
      },
      "execution_count": null,
      "outputs": [
        {
          "output_type": "stream",
          "name": "stdout",
          "text": [
            "              precision    recall  f1-score   support\n",
            "\n",
            "           0       0.83      0.89      0.86      7440\n",
            "           1       0.58      0.47      0.52      2514\n",
            "\n",
            "    accuracy                           0.78      9954\n",
            "   macro avg       0.71      0.68      0.69      9954\n",
            "weighted avg       0.77      0.78      0.77      9954\n",
            "\n"
          ]
        }
      ]
    },
    {
      "cell_type": "markdown",
      "source": [
        "**LOGISTIC REGRESSION CLASSIFIER CLASSIFICATION REPORT**"
      ],
      "metadata": {
        "id": "jDSvfHxU9LSY"
      }
    },
    {
      "cell_type": "code",
      "source": [
        "report_lgr=classification_report(y_test,t)\n",
        "print(report_lgr)"
      ],
      "metadata": {
        "colab": {
          "base_uri": "https://localhost:8080/"
        },
        "id": "bGs7rfAkgqjq",
        "outputId": "0fcc7d7b-c473-4018-94a6-26418f3217c9"
      },
      "execution_count": null,
      "outputs": [
        {
          "output_type": "stream",
          "name": "stdout",
          "text": [
            "              precision    recall  f1-score   support\n",
            "\n",
            "           0       0.78      0.93      0.85      7440\n",
            "           1       0.51      0.21      0.30      2514\n",
            "\n",
            "    accuracy                           0.75      9954\n",
            "   macro avg       0.64      0.57      0.57      9954\n",
            "weighted avg       0.71      0.75      0.71      9954\n",
            "\n"
          ]
        }
      ]
    },
    {
      "cell_type": "markdown",
      "source": [
        "# **PREDICTION OF DIFFERENT MODELS THROUGH PIE CHARTS**"
      ],
      "metadata": {
        "id": "QnZMPmiR9P73"
      }
    },
    {
      "cell_type": "markdown",
      "source": [
        "**DECISION TREE PREDICTION**"
      ],
      "metadata": {
        "id": "SItRcKa19VY-"
      }
    },
    {
      "cell_type": "code",
      "source": [
        "c1=[1891.26,8062.74]\n",
        "l=[\"predicted wrong\",\"predicted correct\"]\n",
        "pplt.pie(c1,labels=l,autopct='%0.1f%%',colors=['blue','red'])\n",
        "pplt.title(\"DECISION TREE PREDICTIONS\")\n",
        "pplt.show()"
      ],
      "metadata": {
        "colab": {
          "base_uri": "https://localhost:8080/"
        },
        "id": "GQ1Q5jc6gvyx",
        "outputId": "52ea73e6-cb68-4b4b-d7aa-8c3b4f8e650d"
      },
      "execution_count": null,
      "outputs": [
        {
          "output_type": "display_data",
          "data": {
            "text/plain": [
              "<Figure size 432x288 with 1 Axes>"
            ],
            "image/png": "[encoded data removed]"
          },
          "metadata": {}
        }
      ]
    },
    {
      "cell_type": "markdown",
      "source": [
        "**RANDOM FOREST PREDICTION**"
      ],
      "metadata": {
        "id": "O1mxZOpn9bkq"
      }
    },
    {
      "cell_type": "code",
      "source": [
        "c2=[1791.72,8162.28]\n",
        "l1=[\"predicted wrong\",\"predicted correct\"]\n",
        "pplt.pie(c2,labels=l1,autopct='%0.1f%%',colors=['blue','red'])\n",
        "pplt.title(\"RANDOM FOREST PREDICTIONS\")\n",
        "pplt.show()"
      ],
      "metadata": {
        "colab": {
          "base_uri": "https://localhost:8080/"
        },
        "id": "uHSboZsJizdj",
        "outputId": "00c8d708-a790-4366-efc1-a2463be248e0"
      },
      "execution_count": null,
      "outputs": [
        {
          "output_type": "display_data",
          "data": {
            "text/plain": [
              "<Figure size 432x288 with 1 Axes>"
            ],
            "image/png": "[encoded data removed]"
          },
          "metadata": {}
        }
      ]
    },
    {
      "cell_type": "markdown",
      "source": [
        "**LINEARSVC PREDICTION**"
      ],
      "metadata": {
        "id": "Lr5kVgk79g7-"
      }
    },
    {
      "cell_type": "code",
      "source": [
        "c3=[2488.5,7465.5]\n",
        "l2=[\"predicted wrong\",\"predicted correct\"]\n",
        "pplt.pie(c3,labels=l2,autopct='%0.1f%%',colors=['blue','red'])\n",
        "pplt.title(\"LINEAR SVC PREDICTIONS\")\n",
        "pplt.show()"
      ],
      "metadata": {
        "colab": {
          "base_uri": "https://localhost:8080/"
        },
        "id": "c5yTptCoivJS",
        "outputId": "9168108a-6d0a-41a8-bda5-7827fce06753"
      },
      "execution_count": null,
      "outputs": [
        {
          "output_type": "display_data",
          "data": {
            "text/plain": [
              "<Figure size 432x288 with 1 Axes>"
            ],
            "image/png": "[encoded data removed]"
          },
          "metadata": {}
        }
      ]
    },
    {
      "cell_type": "markdown",
      "source": [
        "**KNN CLASSIFIER PREDICTION**"
      ],
      "metadata": {
        "id": "QkgLe9NJ9oTP"
      }
    },
    {
      "cell_type": "code",
      "source": [
        "c4=[2189.88,7764.12]\n",
        "l3=[\"predicted wrong\",\"predicted correct\"]\n",
        "pplt.pie(c4,labels=l3,autopct='%0.1f%%',colors=['blue','red'])\n",
        "pplt.title(\"KNN PREDICTIONS\")\n",
        "pplt.show()"
      ],
      "metadata": {
        "colab": {
          "base_uri": "https://localhost:8080/"
        },
        "id": "rO-E4fPsjYVb",
        "outputId": "57733f78-6727-4f99-c4a7-c2489e3e1c04"
      },
      "execution_count": null,
      "outputs": [
        {
          "output_type": "display_data",
          "data": {
            "text/plain": [
              "<Figure size 432x288 with 1 Axes>"
            ],
            "image/png": "[encoded data removed]"
          },
          "metadata": {}
        }
      ]
    },
    {
      "cell_type": "markdown",
      "source": [
        "**LOGISTIC REGRESSION PREDICTION**"
      ],
      "metadata": {
        "id": "TyTCEP6H9slo"
      }
    },
    {
      "cell_type": "code",
      "source": [
        "c5=[2488.5,7465.5]\n",
        "l4=[\"predicted wrong\",\"predicted correct\"]\n",
        "pplt.pie(c5,labels=l4,autopct='%0.1f%%',colors=['blue','red'])\n",
        "pplt.title(\"LOGISTIC REGRESSION PREDICTIONS\")\n",
        "pplt.show()"
      ],
      "metadata": {
        "colab": {
          "base_uri": "https://localhost:8080/"
        },
        "id": "e0bF77Dtjmiq",
        "outputId": "cca45fd2-c8ac-4eb9-ea54-b1f321619bfb"
      },
      "execution_count": null,
      "outputs": [
        {
          "output_type": "display_data",
          "data": {
            "text/plain": [
              "<Figure size 432x288 with 1 Axes>"
            ],
            "image/png": "[encoded data removed]"
          },
          "metadata": {}
        }
      ]
    },
    {
      "cell_type": "markdown",
      "source": [
        "# **CONFUSION MATRICES FOR THE DIFFERENT MODELS**"
      ],
      "metadata": {
        "id": "yB8BjgKa9wnP"
      }
    },
    {
      "cell_type": "code",
      "source": [
        "from sklearn.metrics import confusion_matrix"
      ],
      "metadata": {
        "id": "oDEfPLFKkw_W"
      },
      "execution_count": null,
      "outputs": []
    },
    {
      "cell_type": "markdown",
      "source": [
        "**CONFUSION MATRIX FOR DECISION TREE**"
      ],
      "metadata": {
        "id": "i8NEQh6YCESA"
      }
    },
    {
      "cell_type": "code",
      "source": [
        "conf1=confusion_matrix(y_test,p)\n",
        "pplt.figure(figsize=(6,6))\n",
        "sns.heatmap(conf1,annot=True,fmt=\".0f\")\n",
        "pplt.ylabel(\"ACTUAL\")\n",
        "pplt.xlabel(\"PREDICTED\")\n",
        "pplt.title(\"DECISION TREE CONFUSION MATRIX\")\n",
        "pplt.show()"
      ],
      "metadata": {
        "colab": {
          "base_uri": "https://localhost:8080/"
        },
        "id": "bB6e20uRkyV8",
        "outputId": "8cac6aee-eb30-488c-a0fa-c9d80cb435ec"
      },
      "execution_count": null,
      "outputs": [
        {
          "output_type": "display_data",
          "data": {
            "text/plain": [
              "<Figure size 432x432 with 2 Axes>"
            ],
            "image/png": "[encoded data removed]"
          },
          "metadata": {
            "needs_background": "light"
          }
        }
      ]
    },
    {
      "cell_type": "markdown",
      "source": [
        "**CONFUSION MATRIX FOR RANDOM FOREST**"
      ],
      "metadata": {
        "id": "tWoq_KqoCJr9"
      }
    },
    {
      "cell_type": "code",
      "source": [
        "conf2=confusion_matrix(y_test,q)\n",
        "pplt.figure(figsize=(6,6))\n",
        "sns.heatmap(conf2,annot=True,fmt=\".0f\")\n",
        "pplt.ylabel(\"ACTUAL\")\n",
        "pplt.xlabel(\"PREDICTED\")\n",
        "pplt.title(\"RANDOM FOREST CONFUSION MATRIX\")\n",
        "pplt.show()"
      ],
      "metadata": {
        "colab": {
          "base_uri": "https://localhost:8080/"
        },
        "id": "0APOv1gnk8W9",
        "outputId": "e1fe66f5-b1c5-4fa4-a009-05fc3bc17fb6"
      },
      "execution_count": null,
      "outputs": [
        {
          "output_type": "display_data",
          "data": {
            "text/plain": [
              "<Figure size 432x432 with 2 Axes>"
            ],
            "image/png": "[encoded data removed]"
          },
          "metadata": {
            "needs_background": "light"
          }
        }
      ]
    },
    {
      "cell_type": "markdown",
      "source": [
        "**CONFUSION MATRIX FOR LINEARSVC**"
      ],
      "metadata": {
        "id": "Ttsudb5ECOTA"
      }
    },
    {
      "cell_type": "code",
      "source": [
        "conf3=confusion_matrix(y_test,r)\n",
        "pplt.figure(figsize=(6,6))\n",
        "sns.heatmap(conf3,annot=True,fmt=\".0f\")\n",
        "pplt.ylabel(\"ACTUAL\")\n",
        "pplt.xlabel(\"PREDICTED\")\n",
        "pplt.title(\"LINEARSVC CONFUSION MATRIX\")\n",
        "pplt.show()"
      ],
      "metadata": {
        "colab": {
          "base_uri": "https://localhost:8080/",
          "height": 54
        },
        "id": "KGmJ19eHlBvo",
        "outputId": "780d03f9-dffc-41a8-ae81-1115e54de517"
      },
      "execution_count": null,
      "outputs": [
        {
          "output_type": "display_data",
          "data": {
            "text/plain": [
              "<Figure size 432x432 with 2 Axes>"
            ],
            "image/png": "[encoded data removed]"
          },
          "metadata": {
            "needs_background": "light"
          }
        }
      ]
    },
    {
      "cell_type": "markdown",
      "source": [
        "**CONFUSION MATRIX FOR KNN CLASSIFIER**"
      ],
      "metadata": {
        "id": "Xki5MM8yCWMY"
      }
    },
    {
      "cell_type": "code",
      "source": [
        "conf4=confusion_matrix(y_test,s)\n",
        "pplt.figure(figsize=(6,6))\n",
        "sns.heatmap(conf4,annot=True,fmt=\".0f\")\n",
        "pplt.ylabel(\"ACTUAL\")\n",
        "pplt.xlabel(\"PREDICTED\")\n",
        "pplt.title(\"KNN CONFUSION MATRIX\")\n",
        "pplt.show()"
      ],
      "metadata": {
        "colab": {
          "base_uri": "https://localhost:8080/"
        },
        "id": "e3SP7eTslGu4",
        "outputId": "06c568b4-ece1-4d48-bb41-3d2e2e2808ac"
      },
      "execution_count": null,
      "outputs": [
        {
          "output_type": "display_data",
          "data": {
            "text/plain": [
              "<Figure size 432x432 with 2 Axes>"
            ],
            "image/png": "[encoded data removed]"
          },
          "metadata": {
            "needs_background": "light"
          }
        }
      ]
    },
    {
      "cell_type": "markdown",
      "source": [
        "**CONFUSION MATRIX FOR LINEAR REGRESSION CLASSIFIER**"
      ],
      "metadata": {
        "id": "AjbSdOEJCaZE"
      }
    },
    {
      "cell_type": "code",
      "source": [
        "conf5=confusion_matrix(y_test,t)\n",
        "pplt.figure(figsize=(6,6))\n",
        "sns.heatmap(conf5,annot=True,fmt=\".0f\")\n",
        "pplt.ylabel(\"ACTUAL\")\n",
        "pplt.xlabel(\"PREDICTED\")\n",
        "pplt.title(\"LOGISTIC REGRESSION CONFUSION MATRIX\")\n",
        "pplt.show()"
      ],
      "metadata": {
        "colab": {
          "base_uri": "https://localhost:8080/"
        },
        "id": "jEGUrAFwlMXk",
        "outputId": "50849578-f9ec-4e01-b166-9c0a2a85dbaa"
      },
      "execution_count": null,
      "outputs": [
        {
          "output_type": "display_data",
          "data": {
            "text/plain": [
              "<Figure size 432x432 with 2 Axes>"
            ],
            "image/png": "[encoded data removed]"
          },
          "metadata": {
            "needs_background": "light"
          }
        }
      ]
    },
    {
      "cell_type": "markdown",
      "source": [
        "# **Verificaion of result for Precision, Recall, F1-score and Accuracy for each model based on values from confusion matrix and classification report**"
      ],
      "metadata": {
        "id": "72uyUStmCgLF"
      }
    },
    {
      "cell_type": "code",
      "source": [
        "from sklearn.metrics import precision_score, accuracy_score, recall_score, f1_score"
      ],
      "metadata": {
        "id": "brlD9SDBqINJ"
      },
      "execution_count": null,
      "outputs": []
    },
    {
      "cell_type": "markdown",
      "source": [
        "**VERIFICATION FOR DECISION TREE**"
      ],
      "metadata": {
        "id": "TEDfmWvvC7jP"
      }
    },
    {
      "cell_type": "code",
      "source": [
        "print(f\"Accuracy: {round(accuracy_score(y_test, p), 2)}\") \n",
        "print(f\"Precision: {round(precision_score(y_test, p), 2)}\")\n",
        "print(f\"Recall: {round(recall_score(y_test, p), 2)}\")\n",
        "print(f\"F1_score: {round(f1_score(y_test, p), 2)}\")"
      ],
      "metadata": {
        "colab": {
          "base_uri": "https://localhost:8080/"
        },
        "id": "IMqYjacb970C",
        "outputId": "6ca0f739-3ceb-4098-c23e-37d74ffcf6df"
      },
      "execution_count": null,
      "outputs": [
        {
          "output_type": "stream",
          "name": "stdout",
          "text": [
            "Accuracy: 0.81\n",
            "Precision: 0.65\n",
            "Recall: 0.57\n",
            "F1_score: 0.61\n"
          ]
        }
      ]
    },
    {
      "cell_type": "markdown",
      "source": [
        "**VERIFICATION FOR RANDOM FOREST**"
      ],
      "metadata": {
        "id": "yAyipwo1DBiQ"
      }
    },
    {
      "cell_type": "code",
      "source": [
        "print(f\"Accuracy: {round(accuracy_score(y_test, q), 2)}\") \n",
        "print(f\"Precision: {round(precision_score(y_test, q), 2)}\")\n",
        "print(f\"Recall: {round(recall_score(y_test, q), 2)}\")\n",
        "print(f\"F1_score: {round(f1_score(y_test, q), 2)}\")"
      ],
      "metadata": {
        "colab": {
          "base_uri": "https://localhost:8080/"
        },
        "id": "qnN6fT-4-n4n",
        "outputId": "26a8b73f-21dc-4af4-9a5b-0408cf3e5efe"
      },
      "execution_count": null,
      "outputs": [
        {
          "output_type": "stream",
          "name": "stdout",
          "text": [
            "Accuracy: 0.82\n",
            "Precision: 0.65\n",
            "Recall: 0.58\n",
            "F1_score: 0.62\n"
          ]
        }
      ]
    },
    {
      "cell_type": "markdown",
      "source": [
        "**VERIFICATION FOR LINEARSVC**"
      ],
      "metadata": {
        "id": "OgAOLs07DGlw"
      }
    },
    {
      "cell_type": "code",
      "source": [
        "print(f\"Accuracy: {round(accuracy_score(y_test, r), 2)}\") \n",
        "print(f\"Precision: {round(precision_score(y_test, r), 2)}\")\n",
        "print(f\"Recall: {round(recall_score(y_test, r), 2)}\")\n",
        "print(f\"F1_score: {round(f1_score(y_test, r), 2)}\")"
      ],
      "metadata": {
        "colab": {
          "base_uri": "https://localhost:8080/"
        },
        "id": "Wxn7ce9b-0kT",
        "outputId": "cb627d9e-7efd-431f-ceca-fb916ef35f3f"
      },
      "execution_count": null,
      "outputs": [
        {
          "output_type": "stream",
          "name": "stdout",
          "text": [
            "Accuracy: 0.75\n",
            "Precision: 0.51\n",
            "Recall: 0.14\n",
            "F1_score: 0.22\n"
          ]
        }
      ]
    },
    {
      "cell_type": "markdown",
      "source": [
        "**VERIFICATION FOR KNN CLASSIFIER**"
      ],
      "metadata": {
        "id": "I3WDTvFrDLXZ"
      }
    },
    {
      "cell_type": "code",
      "source": [
        "print(f\"Accuracy: {round(accuracy_score(y_test, s), 2)}\") \n",
        "print(f\"Precision: {round(precision_score(y_test, s), 2)}\")\n",
        "print(f\"Recall: {round(recall_score(y_test, s), 2)}\")\n",
        "print(f\"F1_score: {round(f1_score(y_test, s), 2)}\")"
      ],
      "metadata": {
        "colab": {
          "base_uri": "https://localhost:8080/"
        },
        "id": "wp-u_B3U-6W8",
        "outputId": "27e23918-1f0f-41e0-88a8-26db48b23180"
      },
      "execution_count": null,
      "outputs": [
        {
          "output_type": "stream",
          "name": "stdout",
          "text": [
            "Accuracy: 0.78\n",
            "Precision: 0.58\n",
            "Recall: 0.47\n",
            "F1_score: 0.52\n"
          ]
        }
      ]
    },
    {
      "cell_type": "markdown",
      "source": [
        "**VERIFICATION FOR LINEAR REGRESSION**"
      ],
      "metadata": {
        "id": "labtcnaZDQ6b"
      }
    },
    {
      "cell_type": "code",
      "source": [
        "print(f\"Accuracy: {round(accuracy_score(y_test, t), 2)}\") \n",
        "print(f\"Precision: {round(precision_score(y_test, t), 2)}\")\n",
        "print(f\"Recall: {round(recall_score(y_test, t), 2)}\")\n",
        "print(f\"F1_score: {round(f1_score(y_test, t), 2)}\")"
      ],
      "metadata": {
        "colab": {
          "base_uri": "https://localhost:8080/"
        },
        "id": "xakBbcfl-92l",
        "outputId": "c37aeab9-8808-42d2-86a9-c6da87b1acb1"
      },
      "execution_count": null,
      "outputs": [
        {
          "output_type": "stream",
          "name": "stdout",
          "text": [
            "Accuracy: 0.75\n",
            "Precision: 0.51\n",
            "Recall: 0.21\n",
            "F1_score: 0.3\n"
          ]
        }
      ]
    },
    {
      "cell_type": "markdown",
      "source": [
        "# **PERCENTAGE OF MISCLASSIFICATION FOR DIFFERENT MODELS**"
      ],
      "metadata": {
        "id": "bvjAEWreDVPY"
      }
    },
    {
      "cell_type": "code",
      "source": [
        "print(f\" percentage of Misclassification in Decision Tree Classification: {(1-round(accuracy_score(y_test, p), 2))}\")\n",
        "print(f\" percentage of Misclassification in Random Forest Classification: {(1-round(accuracy_score(y_test, q), 2))}\")\n",
        "print(f\" percentage of Misclassification in SVM Classification: {(1-round(accuracy_score(y_test, r), 2))}\")\n",
        "print(f\" percentage of Misclassification in KNN Classification: {(1-round(accuracy_score(y_test, s), 2))}\")\n",
        "print(f\" percentage of Misclassification in Logistic Regression Classification: {(1-round(accuracy_score(y_test, t), 2))}\")"
      ],
      "metadata": {
        "colab": {
          "base_uri": "https://localhost:8080/"
        },
        "id": "iGTOXpELHPDU",
        "outputId": "47d0c41c-967c-4333-9cf8-04140052beec"
      },
      "execution_count": null,
      "outputs": [
        {
          "output_type": "stream",
          "name": "stdout",
          "text": [
            " percentage of Misclassification in Decision Tree Classification: 0.18999999999999995\n",
            " percentage of Misclassification in Random Forest Classification: 0.18000000000000005\n",
            " percentage of Misclassification in SVM Classification: 0.25\n",
            " percentage of Misclassification in KNN Classification: 0.21999999999999997\n",
            " percentage of Misclassification in Logistic Regression Classification: 0.25\n"
          ]
        }
      ]
    },
    {
      "cell_type": "code",
      "source": [
        "print(scores)"
      ],
      "metadata": {
        "colab": {
          "base_uri": "https://localhost:8080/"
        },
        "id": "9loHJ6pUXo-E",
        "outputId": "adecf4bc-5eb8-4c8b-e464-d48f8d5879b6"
      },
      "execution_count": null,
      "outputs": [
        {
          "output_type": "stream",
          "name": "stdout",
          "text": [
            "[0.8130399839260599, 0.816857544705646, 0.7488446855535463, 0.7816958006831425, 0.749146071930882]\n"
          ]
        }
      ]
    },
    {
      "cell_type": "markdown",
      "source": [
        "**COMPARISION OF PERFORMANCE OF DIFFERENT MODELS**"
      ],
      "metadata": {
        "id": "gvudnZSUDeDy"
      }
    },
    {
      "cell_type": "code",
      "source": [
        "pplt.figure(figsize=(12,10))\n",
        "pplt.ylim([0.60,1])\n",
        "pplt.bar(names,scores,width=0.3,color=['black'])\n",
        "pplt.xlabel(\"Algorithm Name\")\n",
        "pplt.ylabel(\"Algorithm Score\")"
      ],
      "metadata": {
        "colab": {
          "base_uri": "https://localhost:8080/"
        },
        "id": "TZdTwDKCWAUA",
        "outputId": "9534d309-d6de-4b24-b452-0f3326a1446f"
      },
      "execution_count": null,
      "outputs": [
        {
          "output_type": "execute_result",
          "data": {
            "text/plain": [
              "Text(0, 0.5, 'Algorithm Score')"
            ]
          },
          "metadata": {},
          "execution_count": 119
        },
        {
          "output_type": "display_data",
          "data": {
            "text/plain": [
              "<Figure size 864x720 with 1 Axes>"
            ],
            "image/png": "[encoded data removed]"
          },
          "metadata": {
            "needs_background": "light"
          }
        }
      ]
    },
    {
      "cell_type": "markdown",
      "source": [
        "# **CONCLUSION REPORT**"
      ],
      "metadata": {
        "id": "wBEKfcyyDkKU"
      }
    },
    {
      "cell_type": "markdown",
      "source": [
        "**BASED ON THE PRECISION,CONFUSION MATRICES AND THROUGH THE CLASSIFICATION REPORTS WE CAN CONCLUDE THAT THE RANDOM FOREST ALGORITHM OR MODEL IS BEST SUITED FOR THIS PROBLEM STATEMENT WHERE WE HAVE TO PREDICT THE INCOME OF A PERSON BASED DIFFERENT CATEGORIES SOME OF THEM ARE OCCUPATION,WORKCLASS AND MAY MORE.LINEAR REGRESSION MODEL AND SVC CLASSIFIER IS LEAST SUITABLE FOR THIS PROBLEM STATEMENT BASED ON THE SAME ANALYSIS.**"
      ],
      "metadata": {
        "id": "o7jL7d83WUHv"
      }
    }
  ]
}